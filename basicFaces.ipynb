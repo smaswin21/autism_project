{
 "cells": [
  {
   "cell_type": "code",
   "execution_count": 1,
   "id": "236b2fd4",
   "metadata": {},
   "outputs": [
    {
     "name": "stdout",
     "output_type": "stream",
     "text": [
      "Collecting face-recognition\n",
      "  Using cached face_recognition-1.3.0-py2.py3-none-any.whl (15 kB)\n",
      "Requirement already satisfied: face-recognition-models>=0.3.0 in /Users/sm_aswin21/.pyenv/versions/3.9.7/lib/python3.9/site-packages (from face-recognition) (0.3.0)\n",
      "Requirement already satisfied: Click>=6.0 in /Users/sm_aswin21/.pyenv/versions/3.9.7/lib/python3.9/site-packages (from face-recognition) (8.1.7)\n",
      "Requirement already satisfied: dlib>=19.7 in /Users/sm_aswin21/.pyenv/versions/3.9.7/lib/python3.9/site-packages (from face-recognition) (19.24.2)\n",
      "Requirement already satisfied: numpy in /Users/sm_aswin21/.pyenv/versions/3.9.7/lib/python3.9/site-packages (from face-recognition) (1.25.2)\n",
      "Requirement already satisfied: Pillow in /Users/sm_aswin21/.pyenv/versions/3.9.7/lib/python3.9/site-packages (from face-recognition) (10.1.0)\n",
      "Installing collected packages: face-recognition\n",
      "Successfully installed face-recognition-1.3.0\n"
     ]
    }
   ],
   "source": [
    "!pip3 install face-recognition\n"
   ]
  },
  {
   "cell_type": "code",
   "execution_count": 2,
   "id": "3c757326",
   "metadata": {},
   "outputs": [
    {
     "name": "stdout",
     "output_type": "stream",
     "text": [
      "[(32, 487, 94, 425), (58, 121, 94, 85), (149, 494, 211, 432)]\n"
     ]
    }
   ],
   "source": [
    "import face_recognition\n",
    "\n",
    "# Load the image from a file\n",
    "image_path = \"/Users/sm_aswin21/Library/Mobile Documents/com~apple~CloudDocs/autism_project/image1.png\"  # Replace with the path to your image\n",
    "image = face_recognition.load_image_file(image_path)\n",
    "\n",
    "# Find all face locations in the image\n",
    "face_locations = face_recognition.face_locations(image)\n",
    "\n",
    "# Print the locations of detected faces\n",
    "print(face_locations)"
   ]
  },
  {
   "cell_type": "code",
   "execution_count": 5,
   "id": "44900bea",
   "metadata": {},
   "outputs": [],
   "source": [
    "image = face_recognition.load_image_file(image_path)\n"
   ]
  },
  {
   "cell_type": "code",
   "execution_count": 8,
   "id": "b6c3b587",
   "metadata": {},
   "outputs": [],
   "source": [
    "face_locations = face_recognition.face_locations(image)\n"
   ]
  },
  {
   "cell_type": "code",
   "execution_count": 9,
   "id": "2c410bad",
   "metadata": {},
   "outputs": [
    {
     "name": "stdout",
     "output_type": "stream",
     "text": [
      "[(32, 487, 94, 425), (58, 121, 94, 85), (149, 494, 211, 432)]\n"
     ]
    }
   ],
   "source": [
    "print(face_locations)"
   ]
  },
  {
   "cell_type": "markdown",
   "id": "9a081a79",
   "metadata": {},
   "source": [
    " Count Peoples Within An Image"
   ]
  },
  {
   "cell_type": "code",
   "execution_count": 13,
   "id": "0258dcf9",
   "metadata": {},
   "outputs": [
    {
     "name": "stdout",
     "output_type": "stream",
     "text": [
      "There are 3 faces in the image\n"
     ]
    }
   ],
   "source": [
    "import face_recognition\n",
    "image = face_recognition.load_image_file(image_path)\n",
    "face_locations = face_recognition.face_locations(image)\n",
    "print(\"There are {} faces in the image\".format(len(face_locations)))"
   ]
  },
  {
   "cell_type": "code",
   "execution_count": 14,
   "id": "069a44de",
   "metadata": {},
   "outputs": [
    {
     "name": "stdout",
     "output_type": "stream",
     "text": [
      "There are 3 faces in the image\n"
     ]
    }
   ],
   "source": [
    "print(\"There are {} faces in the image\".format(len(face_locations)))\n"
   ]
  },
  {
   "cell_type": "markdown",
   "id": "378e8820",
   "metadata": {},
   "source": [
    "In this stage, I compare two different photos of Obama and try to find the similarity and detect the correct one. "
   ]
  },
  {
   "cell_type": "code",
   "execution_count": 18,
   "id": "36a01466",
   "metadata": {},
   "outputs": [
    {
     "name": "stdout",
     "output_type": "stream",
     "text": [
      "True\n"
     ]
    }
   ],
   "source": [
    "import face_recognition\n",
    "\n",
    "# Load the known image (of Obama)\n",
    "image_of_obama_path = \"/Users/sm_aswin21/Library/Mobile Documents/com~apple~CloudDocs/autism_project/obama.png\"  # Replace with the path to your PNG image of Obama\n",
    "image_of_obama = face_recognition.load_image_file(image_of_obama_path)\n",
    "obama_encodings = face_recognition.face_encodings(image_of_obama)\n",
    "\n",
    "# Ensure a face was detected in the known image\n",
    "if not obama_encodings:\n",
    "    print(\"No face found in the image of Obama.\")\n",
    "    exit()\n",
    "\n",
    "obama_face_encoding = obama_encodings[0]\n",
    "\n",
    "# Load the unknown image\n",
    "unknown_image_path = \"/Users/sm_aswin21/Library/Mobile Documents/com~apple~CloudDocs/autism_project/unknown.png\"\n",
    "unknown_image = face_recognition.load_image_file(unknown_image_path)\n",
    "unknown_encodings = face_recognition.face_encodings(unknown_image)\n",
    "\n",
    "# Ensure a face was detected in the unknown image\n",
    "if not unknown_encodings:\n",
    "    print(\"No face found in the unknown image.\")\n",
    "    exit()\n",
    "\n",
    "unknown_face_encoding = unknown_encodings[0]\n",
    "\n",
    "# Compare the two images\n",
    "result = face_recognition.compare_faces([obama_face_encoding], unknown_face_encoding)\n",
    "print(result[0])\n"
   ]
  },
  {
   "cell_type": "code",
   "execution_count": null,
   "id": "f2a307db",
   "metadata": {},
   "outputs": [],
   "source": []
  }
 ],
 "metadata": {
  "kernelspec": {
   "display_name": "Python 3 (ipykernel)",
   "language": "python",
   "name": "python3"
  },
  "language_info": {
   "codemirror_mode": {
    "name": "ipython",
    "version": 3
   },
   "file_extension": ".py",
   "mimetype": "text/x-python",
   "name": "python",
   "nbconvert_exporter": "python",
   "pygments_lexer": "ipython3",
   "version": "3.9.7"
  }
 },
 "nbformat": 4,
 "nbformat_minor": 5
}
